{
  "nbformat": 4,
  "nbformat_minor": 0,
  "metadata": {
    "colab": {
      "name": "Assignment 2: Bayesian Decision Theory and Parametric Estimation.ipynb",
      "provenance": [],
      "collapsed_sections": [],
      "authorship_tag": "ABX9TyOVQIml+F07EyAPSQKZUegv",
      "include_colab_link": true
    },
    "kernelspec": {
      "display_name": "Python 3",
      "name": "python3"
    }
  },
  "cells": [
    {
      "cell_type": "markdown",
      "metadata": {
        "id": "view-in-github",
        "colab_type": "text"
      },
      "source": [
        "<a href=\"https://colab.research.google.com/github/dsvalencias/MachineLearning/blob/main/Assignment_2_Bayesian_Decision_Theory_and_Parametric_Estimation.ipynb\" target=\"_parent\"><img src=\"https://colab.research.google.com/assets/colab-badge.svg\" alt=\"Open In Colab\"/></a>"
      ]
    },
    {
      "cell_type": "markdown",
      "metadata": {
        "id": "nF-BYn_Ku_I0"
      },
      "source": [
        "Import dataset from github routine"
      ]
    },
    {
      "cell_type": "code",
      "metadata": {
        "colab": {
          "base_uri": "https://localhost:8080/"
        },
        "id": "hIaeWwm2vDDB",
        "outputId": "38724fc6-cb72-4eab-f112-8b8c3c096777"
      },
      "source": [
        "import pandas as pd\n",
        "import numpy as np\n",
        "import matplotlib.pyplot as plt\n",
        "\n",
        "url = 'https://raw.githubusercontent.com/dsvalencias/MachineLearning/main/Datasets/diabetes.csv'\n",
        "data = pd.read_csv(url)\n",
        "print(data.columns.values)\n",
        "data.shape"
      ],
      "execution_count": 1,
      "outputs": [
        {
          "output_type": "stream",
          "text": [
            "['Pregnancies' 'Glucose' 'BloodPressure' 'SkinThickness' 'Insulin' 'BMI'\n",
            " 'DiabetesPedigreeFunction' 'Age' 'Outcome']\n"
          ],
          "name": "stdout"
        },
        {
          "output_type": "execute_result",
          "data": {
            "text/plain": [
              "(768, 9)"
            ]
          },
          "metadata": {
            "tags": []
          },
          "execution_count": 1
        }
      ]
    },
    {
      "cell_type": "code",
      "metadata": {
        "colab": {
          "base_uri": "https://localhost:8080/"
        },
        "id": "yxnxkTaafNii",
        "outputId": "bbd807c1-46d4-4538-d9bd-29d1d6d93ac3"
      },
      "source": [
        "#Separating features from class label(outcome)\n",
        "X_features = data.loc[:, \"Pregnancies\":\"Age\"].to_numpy()\n",
        "print(\"X: %s %s\" % (type(X_features), X_features.shape))\n",
        "Y_label = data.loc[:, \"Outcome\"].to_numpy()\n",
        "print(\"Y:  %s %s\" % (type(Y_label), Y_label.shape))"
      ],
      "execution_count": 2,
      "outputs": [
        {
          "output_type": "stream",
          "text": [
            "X: <class 'numpy.ndarray'> (768, 8)\n",
            "Y:  <class 'numpy.ndarray'> (768,)\n"
          ],
          "name": "stdout"
        }
      ]
    },
    {
      "cell_type": "code",
      "metadata": {
        "id": "m5caUw6AthPc"
      },
      "source": [
        "#Separating all dataset into training and validation subsets\n",
        "\n",
        "from sklearn.gaussian_process import GaussianProcessClassifier\n",
        "from sklearn.gaussian_process.kernels import RBF\n",
        "from sklearn.model_selection import train_test_split\n",
        "X_train, X_test, y_train, y_test = train_test_split(X_features, Y_label, test_size=0.33, random_state=42)"
      ],
      "execution_count": 3,
      "outputs": []
    },
    {
      "cell_type": "code",
      "metadata": {
        "colab": {
          "base_uri": "https://localhost:8080/"
        },
        "id": "U_-LVYmI7L7p",
        "outputId": "77a0ae48-287a-41ac-b677-03250edf425e"
      },
      "source": [
        "#import a GaussianProcessClassifier using all features -> and it should be one by one like .fit(X_train[0], y_train) .fit(X_train[1], y_train) ...\n",
        "kernel = 1.0 * RBF(1.0)\n",
        "gpc = GaussianProcessClassifier(kernel=kernel,random_state=0).fit(X_train, y_train)\n",
        "y_predict = gpc.predict(X_test)\n",
        "gpc.score(X_train, y_train)\n",
        "#gpc.predict_proba(X_test)"
      ],
      "execution_count": 13,
      "outputs": [
        {
          "output_type": "execute_result",
          "data": {
            "text/plain": [
              "0.791828793774319"
            ]
          },
          "metadata": {
            "tags": []
          },
          "execution_count": 13
        }
      ]
    },
    {
      "cell_type": "code",
      "metadata": {
        "colab": {
          "base_uri": "https://localhost:8080/"
        },
        "id": "Fo_qYLNSuCkx",
        "outputId": "125f859f-6d27-42f1-9395-e4b00cf7c65e"
      },
      "source": [
        "#Get accuracy, precision and recall values\n",
        "from sklearn import metrics\n",
        "accuracy = metrics.accuracy_score(y_test, y_predict)\n",
        "precision = metrics.precision_score(y_test, y_predict)\n",
        "recall = metrics.recall_score(y_test, y_predict)\n",
        "print(\"Accuracy: %f, Precision: %f, Recall: %f\" % (accuracy, precision, recall))"
      ],
      "execution_count": 14,
      "outputs": [
        {
          "output_type": "stream",
          "text": [
            "Accuracy: 0.740157, Precision: 0.628205, Recall: 0.569767\n"
          ],
          "name": "stdout"
        }
      ]
    },
    {
      "cell_type": "code",
      "metadata": {
        "colab": {
          "base_uri": "https://localhost:8080/"
        },
        "id": "3NJjZS1CA37r",
        "outputId": "8485cb41-2aab-4e57-9eea-a10adbf1cab2"
      },
      "source": [
        "#Draw curve for posterior distribution -> Use matplotlib for that\n",
        "metrics.roc_curve(y_test, y_predict)"
      ],
      "execution_count": 15,
      "outputs": [
        {
          "output_type": "execute_result",
          "data": {
            "text/plain": [
              "(array([0.        , 0.17261905, 1.        ]),\n",
              " array([0.        , 0.56976744, 1.        ]),\n",
              " array([2, 1, 0]))"
            ]
          },
          "metadata": {
            "tags": []
          },
          "execution_count": 15
        }
      ]
    }
  ]
}