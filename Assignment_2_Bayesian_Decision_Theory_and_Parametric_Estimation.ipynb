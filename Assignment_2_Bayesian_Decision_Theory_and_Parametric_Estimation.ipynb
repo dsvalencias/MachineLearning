{
  "nbformat": 4,
  "nbformat_minor": 0,
  "metadata": {
    "colab": {
      "name": "Assignment 2: Bayesian Decision Theory and Parametric Estimation.ipynb",
      "provenance": [],
      "collapsed_sections": [],
      "include_colab_link": true
    },
    "kernelspec": {
      "display_name": "Python 3",
      "name": "python3"
    }
  },
  "cells": [
    {
      "cell_type": "markdown",
      "metadata": {
        "id": "view-in-github",
        "colab_type": "text"
      },
      "source": [
        "<a href=\"https://colab.research.google.com/github/dsvalencias/MachineLearning/blob/main/Assignment_2_Bayesian_Decision_Theory_and_Parametric_Estimation.ipynb\" target=\"_parent\"><img src=\"https://colab.research.google.com/assets/colab-badge.svg\" alt=\"Open In Colab\"/></a>"
      ]
    },
    {
      "cell_type": "markdown",
      "metadata": {
        "id": "nF-BYn_Ku_I0"
      },
      "source": [
        "Import dataset from github routine"
      ]
    },
    {
      "cell_type": "code",
      "metadata": {
        "colab": {
          "base_uri": "https://localhost:8080/"
        },
        "id": "hIaeWwm2vDDB",
        "outputId": "8683f980-011a-443c-ca96-24003eed4e6c"
      },
      "source": [
        "import pandas as pd\n",
        "import numpy as np\n",
        "import matplotlib.pyplot as plt\n",
        "\n",
        "url = 'https://raw.githubusercontent.com/dsvalencias/MachineLearning/main/Datasets/diabetes.csv'\n",
        "data = pd.read_csv(url)\n",
        "print(data.columns.values)\n",
        "data.shape"
      ],
      "execution_count": 1,
      "outputs": [
        {
          "output_type": "stream",
          "text": [
            "['Pregnancies' 'Glucose' 'BloodPressure' 'SkinThickness' 'Insulin' 'BMI'\n",
            " 'DiabetesPedigreeFunction' 'Age' 'Outcome']\n"
          ],
          "name": "stdout"
        },
        {
          "output_type": "execute_result",
          "data": {
            "text/plain": [
              "(768, 9)"
            ]
          },
          "metadata": {
            "tags": []
          },
          "execution_count": 1
        }
      ]
    },
    {
      "cell_type": "markdown",
      "metadata": {
        "id": "HOjVtAbq6wXH"
      },
      "source": [
        "**PART 1**"
      ]
    },
    {
      "cell_type": "code",
      "metadata": {
        "colab": {
          "base_uri": "https://localhost:8080/"
        },
        "id": "yxnxkTaafNii",
        "outputId": "ec72f963-7bd4-43b0-99bc-b6f85449f7fd"
      },
      "source": [
        "#Separating features from class label(outcome)\n",
        "X_features = data.loc[:, \"Pregnancies\":\"Age\"].to_numpy()\n",
        "print(\"X: %s %s\" % (type(X_features), X_features.shape))\n",
        "Y_label = data.loc[:, \"Outcome\"].to_numpy()\n",
        "print(\"Y:  %s %s\" % (type(Y_label), Y_label.shape))"
      ],
      "execution_count": 2,
      "outputs": [
        {
          "output_type": "stream",
          "text": [
            "X: <class 'numpy.ndarray'> (768, 8)\n",
            "Y:  <class 'numpy.ndarray'> (768,)\n"
          ],
          "name": "stdout"
        }
      ]
    },
    {
      "cell_type": "code",
      "metadata": {
        "id": "m5caUw6AthPc"
      },
      "source": [
        "#Separating all dataset into training and validation subsets\n",
        "\n",
        "from sklearn.gaussian_process import GaussianProcessClassifier\n",
        "from sklearn.gaussian_process.kernels import RBF\n",
        "from sklearn.model_selection import train_test_split\n",
        "X_train, X_test, y_train, y_test = train_test_split(X_features, Y_label, test_size=0.33, random_state=42)"
      ],
      "execution_count": 3,
      "outputs": []
    },
    {
      "cell_type": "code",
      "metadata": {
        "id": "POGNQn0o7PMY"
      },
      "source": [
        "from sklearn import metrics\n",
        "results = []"
      ],
      "execution_count": 4,
      "outputs": []
    },
    {
      "cell_type": "code",
      "metadata": {
        "id": "U_-LVYmI7L7p"
      },
      "source": [
        "#import a GaussianProcessClassifier using all features -> and it should be one by one like .fit(X_train[0], y_train) .fit(X_train[1], y_train) ...\n",
        "#Iterate over all features in order to clasify using just one feature at a time.\n",
        "kernel = 1.0 * RBF(1.0)\n",
        "for i in range(0, X_train.shape[1]):\n",
        "  #Mandatory reshapes so GaussianProcessClassifier can process a single feature (column)\n",
        "  single_feature_X_train = X_train[:,i].reshape(-1,1)\n",
        "  single_feature_X_test = X_test[:,i].reshape(-1,1)\n",
        "  #Actual model fit\n",
        "  gpc = GaussianProcessClassifier(kernel=kernel,random_state=0).fit(single_feature_X_train, y_train)\n",
        "  y_predict = gpc.predict(single_feature_X_test)\n",
        "  #Get accuracy, precision and recall values for each feature\n",
        "  accuracy = metrics.accuracy_score(y_test, y_predict)\n",
        "  precision = metrics.precision_score(y_test, y_predict)\n",
        "  recall = metrics.recall_score(y_test, y_predict)\n",
        "#  accuracy_list.append(accuracy)\n",
        "#  precision_list.append(precision)\n",
        "#  recall_list.append(recall)\n",
        "  results.append({'accuracy':accuracy, 'precision':precision, 'recall': recall})"
      ],
      "execution_count": 5,
      "outputs": []
    },
    {
      "cell_type": "code",
      "metadata": {
        "id": "Fo_qYLNSuCkx",
        "colab": {
          "base_uri": "https://localhost:8080/"
        },
        "outputId": "32d73949-cdd1-4fc7-be3e-103d027aa7a6"
      },
      "source": [
        "#Get accuracy, precision and recall values for each feature\n",
        "#print(\"Accuracy List\\n\", accuracy_list)\n",
        "#print(\"Precision List\\n\", precision_list)\n",
        "#print(\"Recall List\\n\", recall_list)\n",
        "#print(\"Accuracy: %f, Precision: %f, Recall: %f\" % (accuracy, precision, recall))\n",
        "for i in range(0, len(results)):\n",
        "  print(data.columns.values[i]+ \"\\n\", results[i])\n",
        "  print()"
      ],
      "execution_count": 6,
      "outputs": [
        {
          "output_type": "stream",
          "text": [
            "Pregnancies\n",
            " {'accuracy': 0.6692913385826772, 'precision': 0.5263157894736842, 'recall': 0.23255813953488372}\n",
            "\n",
            "Glucose\n",
            " {'accuracy': 0.7204724409448819, 'precision': 0.6229508196721312, 'recall': 0.4418604651162791}\n",
            "\n",
            "BloodPressure\n",
            " {'accuracy': 0.6614173228346457, 'precision': 0.5, 'recall': 0.05813953488372093}\n",
            "\n",
            "SkinThickness\n",
            " {'accuracy': 0.65748031496063, 'precision': 0.4, 'recall': 0.023255813953488372}\n",
            "\n",
            "Insulin\n",
            " {'accuracy': 0.6456692913385826, 'precision': 0.45454545454545453, 'recall': 0.23255813953488372}\n",
            "\n",
            "BMI\n",
            " {'accuracy': 0.6811023622047244, 'precision': 0.5925925925925926, 'recall': 0.18604651162790697}\n",
            "\n",
            "DiabetesPedigreeFunction\n",
            " {'accuracy': 0.6692913385826772, 'precision': 0.6666666666666666, 'recall': 0.046511627906976744}\n",
            "\n",
            "Age\n",
            " {'accuracy': 0.6496062992125984, 'precision': 0.4819277108433735, 'recall': 0.46511627906976744}\n",
            "\n"
          ],
          "name": "stdout"
        }
      ]
    },
    {
      "cell_type": "code",
      "metadata": {
        "id": "3NJjZS1CA37r",
        "colab": {
          "base_uri": "https://localhost:8080/"
        },
        "outputId": "f76cd778-3000-4576-a4e8-fb72b2df81cb"
      },
      "source": [
        "#Draw curve for posterior distribution -> Use matplotlib for that\n",
        "#Don't know what we are supposed to draw\n",
        "metrics.roc_curve(y_test, y_predict)#??"
      ],
      "execution_count": 7,
      "outputs": [
        {
          "output_type": "execute_result",
          "data": {
            "text/plain": [
              "(array([0.        , 0.25595238, 1.        ]),\n",
              " array([0.        , 0.46511628, 1.        ]),\n",
              " array([2, 1, 0]))"
            ]
          },
          "metadata": {
            "tags": []
          },
          "execution_count": 7
        }
      ]
    },
    {
      "cell_type": "markdown",
      "metadata": {
        "id": "CUDj_lkjPrr-"
      },
      "source": [
        "**PLAYGROUND**"
      ]
    },
    {
      "cell_type": "code",
      "metadata": {
        "id": "vQCX9fJH-z8n",
        "colab": {
          "base_uri": "https://localhost:8080/"
        },
        "outputId": "f12a81c7-fb5d-4e79-f1aa-c81a9a727210"
      },
      "source": [
        "#PlayGround\n",
        "\n",
        "kernel = 1.0 * RBF(1.0)\n",
        "#gpc = GaussianProcessClassifier(kernel=kernel,random_state=0).fit(X_train[:,0].reshape(-1,1), y_train)\n",
        "len(results)"
      ],
      "execution_count": 8,
      "outputs": [
        {
          "output_type": "execute_result",
          "data": {
            "text/plain": [
              "8"
            ]
          },
          "metadata": {
            "tags": []
          },
          "execution_count": 8
        }
      ]
    }
  ]
}